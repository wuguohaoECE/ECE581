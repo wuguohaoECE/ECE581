{
 "cells": [
  {
   "cell_type": "code",
   "execution_count": 1,
   "metadata": {},
   "outputs": [],
   "source": [
    "import numpy as np\n",
    "import matplotlib.pyplot as plt\n",
    "import pandas as pd"
   ]
  },
  {
   "cell_type": "markdown",
   "metadata": {},
   "source": [
    "# Problem1"
   ]
  },
  {
   "cell_type": "code",
   "execution_count": 41,
   "metadata": {},
   "outputs": [
    {
     "name": "stdout",
     "output_type": "stream",
     "text": [
      "0.3713\n"
     ]
    }
   ],
   "source": [
    "result=10\n",
    "count=0\n",
    "n=10000\n",
    "for i in range(n):\n",
    "  #  print(\"i= %d\" %(i))\n",
    "    result=10\n",
    "    while ((result>0) & (result<20)):\n",
    "        out=np.floor(np.random.uniform(0,37))\n",
    "  #      print(out)\n",
    "        if out>18 :\n",
    "            result=result+1\n",
    "        else:\n",
    "            result=result-1\n",
    "  #      print(result)\n",
    "    if result==20:\n",
    "        count=count+1\n",
    "print(count/n)"
   ]
  },
  {
   "cell_type": "code",
   "execution_count": null,
   "metadata": {},
   "outputs": [],
   "source": [
    "for n in ns:\n",
    "    if sda>0:\n",
    "        "
   ]
  },
  {
   "cell_type": "code",
   "execution_count": 23,
   "metadata": {},
   "outputs": [
    {
     "name": "stdout",
     "output_type": "stream",
     "text": [
      "when simulate 100 trails, the predicted pi is 3.076923\n",
      "when simulate 1000 trails, the predicted pi is 2.952030\n",
      "when simulate 10000 trails, the predicted pi is 3.158310\n",
      "when simulate 100000 trails, the predicted pi is 3.142924\n"
     ]
    }
   ],
   "source": [
    "d=5\n",
    "l=2\n",
    "n_set=[100,1000,10000,100000]\n",
    "for n in n_set:\n",
    "    distance=np.random.uniform(0,d/2,n)\n",
    "    angle=np.random.uniform(0,np.pi/2,n)\n",
    "    cross_num=sum(l/2*np.sin(angle)-distance>0)\n",
    "    print(\"when simulate %d trails, the predicted pi is %f\" %(n,2*l/(d*cross_num/n)))"
   ]
  },
  {
   "cell_type": "markdown",
   "metadata": {},
   "source": [
    "# Problem2"
   ]
  },
  {
   "cell_type": "code",
   "execution_count": 30,
   "metadata": {},
   "outputs": [],
   "source": [
    "def find_prob(trail_times,num_people):\n",
    "    count=0\n",
    "    for i in range(trail_times):\n",
    "        birthdays=np.floor(np.random.uniform(0,366,num_people))\n",
    "        if len(np.unique(birthdays))==len(birthdays):\n",
    "            count=count+1\n",
    "    prob=count/trail_times\n",
    "    return prob\n",
    "\n",
    "def P2(n):\n",
    "    return np.exp(np.log(np.arange(1,365+1)).sum()-np.log(np.arange(1,365-n+1)).sum()-n*np.log(365))"
   ]
  },
  {
   "cell_type": "markdown",
   "metadata": {},
   "source": [
    "The mathematical result: $ P(n) = \\frac{365！}{365^n \\times (365-n)!}$"
   ]
  },
  {
   "cell_type": "code",
   "execution_count": 33,
   "metadata": {},
   "outputs": [
    {
     "data": {
      "text/plain": [
       "<matplotlib.legend.Legend at 0x2a353a83240>"
      ]
     },
     "execution_count": 33,
     "metadata": {},
     "output_type": "execute_result"
    },
    {
     "data": {
      "image/png": "[encoded data removed]",
      "text/plain": [
       "<matplotlib.figure.Figure at 0x2a3539d8828>"
      ]
     },
     "metadata": {},
     "output_type": "display_data"
    }
   ],
   "source": [
    "num_people_set=[]\n",
    "prob_set=[]\n",
    "prob_set_theory=[]\n",
    "for i in range(1,200):\n",
    "    num_people_set.append(i)\n",
    "    prob_set.append(find_prob(1000,i))\n",
    "    prob_set_theory.append(P2(i))\n",
    "\n",
    "plt.scatter(num_people_set,prob_set,marker='x')\n",
    "plt.scatter(num_people_set,prob_set_theory,marker='o')\n",
    "plt.legend([\"simulation\",\"theory\"])"
   ]
  },
  {
   "cell_type": "markdown",
   "metadata": {},
   "source": [
    "# problem3"
   ]
  },
  {
   "cell_type": "code",
   "execution_count": 2,
   "metadata": {},
   "outputs": [],
   "source": [
    "from scipy.misc import factorial\n",
    "def nCr(n,r):\n",
    "    f = factorial\n",
    "    return f(n) / f(r) / f(n-r)"
   ]
  },
  {
   "cell_type": "code",
   "execution_count": 4,
   "metadata": {},
   "outputs": [
    {
     "name": "stderr",
     "output_type": "stream",
     "text": [
      "E:\\Anaconda\\lib\\site-packages\\ipykernel_launcher.py:4: DeprecationWarning: `factorial` is deprecated!\n",
      "Importing `factorial` from scipy.misc is deprecated in scipy 1.0.0. Use `scipy.special.factorial` instead.\n",
      "  after removing the cwd from sys.path.\n"
     ]
    },
    {
     "data": {
      "text/plain": [
       "0.7272727272727273"
      ]
     },
     "execution_count": 4,
     "metadata": {},
     "output_type": "execute_result"
    }
   ],
   "source": [
    "nCr(8,4)*nCr(4,2)/nCr(12,6)+nCr(8,5)*4/nCr(12,6)+nCr(8,6)/nCr(12,6)"
   ]
  },
  {
   "cell_type": "code",
   "execution_count": 111,
   "metadata": {},
   "outputs": [
    {
     "name": "stdout",
     "output_type": "stream",
     "text": [
      "(simulation)The probability that cards include exactly 3 Kings is 0.006100\n",
      "(mathematically)The probability that cards include exactly 3 Kings is 0.005818\n"
     ]
    }
   ],
   "source": [
    "card=np.arange(52)\n",
    "king_set=np.array([0,1,2,3])\n",
    "count=0\n",
    "n=10000\n",
    "for i in range(n):\n",
    "    np.random.shuffle(card)\n",
    "    if len(np.intersect1d(king_set,card[0:7]))==3:\n",
    "        count=count+1\n",
    "print(\"(simulation)The probability that cards include exactly 3 Kings is %f\" %(count/n))\n",
    "print(\"(mathematically)The probability that cards include exactly 3 Kings is %f\" %(nCr(4,3)*nCr(48,4)/nCr(52,7)))"
   ]
  },
  {
   "cell_type": "markdown",
   "metadata": {},
   "source": [
    "# Problem4"
   ]
  },
  {
   "cell_type": "markdown",
   "metadata": {},
   "source": [
    "The mathematical result: $ area = ln2 $"
   ]
  },
  {
   "cell_type": "code",
   "execution_count": 6,
   "metadata": {},
   "outputs": [
    {
     "data": {
      "text/plain": [
       "0.684"
      ]
     },
     "execution_count": 6,
     "metadata": {},
     "output_type": "execute_result"
    }
   ],
   "source": [
    "point_set=np.random.uniform(0,1,[1000,2])\n",
    "np.sum(1/(1+point_set[:,0])>point_set[:,1])/1000"
   ]
  },
  {
   "cell_type": "markdown",
   "metadata": {},
   "source": [
    "# Problem5"
   ]
  },
  {
   "cell_type": "code",
   "execution_count": 4,
   "metadata": {},
   "outputs": [
    {
     "name": "stdout",
     "output_type": "stream",
     "text": [
      "The mathematical soluntion is \n",
      "p1= 0.5 \n",
      "p2= 0.25 \n",
      "p3= 0.5 \n",
      "p4= 0 \n",
      "p5= 0.5\n",
      "The simulation soluntion is \n",
      "p1= 0.509808 \n",
      "p2= 0.242479 \n",
      "p3= 0.509835 \n",
      "p4= 0.000000 \n",
      "p5= 0.506143\n"
     ]
    }
   ],
   "source": [
    "n=10000\n",
    "toss_set=pd.DataFrame(np.floor(np.random.uniform(0,2,[n,3])),columns=list('ABC'))\n",
    "p1=(toss_set[(toss_set.A==1)].sum(axis=1)==2).sum()/np.size(toss_set[(toss_set.A==1)],0)\n",
    "p2=(toss_set[(toss_set.A==0)].sum(axis=1)==2).sum()/np.size(toss_set[(toss_set.A==0)],0)\n",
    "p3=(toss_set[(toss_set.A==1)&(toss_set.B==1)].sum(axis=1)==2).sum()/np.size(toss_set[(toss_set.A==1)&(toss_set.B==1)],0)\n",
    "p4=(toss_set[(toss_set.A==0)&(toss_set.B==0)].sum(axis=1)==2).sum()/np.size(toss_set[(toss_set.A==0)&(toss_set.B==0)],0)\n",
    "p5=(toss_set[(toss_set.A==1)&(toss_set.C==1)].sum(axis=1)==2).sum()/np.size(toss_set[(toss_set.A==1)&(toss_set.C==1)],0)\n",
    "print(\"The mathematical soluntion is \\np1= 0.5 \\np2= 0.25 \\np3= 0.5 \\np4= 0 \\np5= 0.5\")\n",
    "print(\"The simulation soluntion is \\np1= %f \\np2= %f \\np3= %f \\np4= %f \\np5= %f\" %(p1,p2,p3,p4,p5))"
   ]
  },
  {
   "cell_type": "markdown",
   "metadata": {},
   "source": [
    "# Problem6"
   ]
  },
  {
   "cell_type": "code",
   "execution_count": 50,
   "metadata": {},
   "outputs": [
    {
     "name": "stdout",
     "output_type": "stream",
     "text": [
      "The mathematical soluntion is p= 0.533333\n",
      "The simulation soluntion is p= 0.539100\n"
     ]
    }
   ],
   "source": [
    "print(\"The mathematical soluntion is p= %f\" %(nCr(4,1)*nCr(2,1)/nCr(6,2)))\n",
    "count=0\n",
    "n=10000\n",
    "a=np.hstack((np.zeros(4),np.ones(2)))\n",
    "for i in range(n):\n",
    "    np.random.shuffle(a)\n",
    "    if a[:2].sum()==1:\n",
    "        count=count+1\n",
    "print(\"The simulation soluntion is p= %f\" %(count/n))"
   ]
  },
  {
   "cell_type": "markdown",
   "metadata": {},
   "source": [
    "# Problem7"
   ]
  },
  {
   "cell_type": "code",
   "execution_count": 88,
   "metadata": {},
   "outputs": [
    {
     "name": "stdout",
     "output_type": "stream",
     "text": [
      "when N= 1, log(N!)= 0.000000 its approximation is 0.324404\n",
      "when N= 2, log(N!)= 0.693147 its approximation is 0.751520\n",
      "when N= 3, log(N!)= 1.791759 its approximation is 1.677227\n",
      "when N= 4, log(N!)= 3.178054 its approximation is 2.935248\n",
      "when N= 5, log(N!)= 4.787492 its approximation is 4.442679\n",
      "when N= 6, log(N!)= 6.579251 its approximation is 6.149752\n",
      "when N= 7, log(N!)= 8.525161 its approximation is 8.023260\n",
      "when N= 8, log(N!)= 10.604603 its approximation is 10.039468\n",
      "when N= 9, log(N!)= 12.801827 its approximation is 12.180565\n",
      "when N= 10, log(N!)= 15.104413 its approximation is 14.432691\n",
      "when N= 11, log(N!)= 17.502308 its approximation is 16.784756\n",
      "when N= 12, log(N!)= 19.987214 its approximation is 19.227682\n",
      "when N= 13, log(N!)= 22.552164 its approximation is 21.753904\n",
      "when N= 14, log(N!)= 25.191221 its approximation is 24.357020\n",
      "when N= 15, log(N!)= 27.899271 its approximation is 27.031539\n",
      "when N= 16, log(N!)= 30.671860 its approximation is 29.772705\n",
      "when N= 17, log(N!)= 33.505073 its approximation is 32.576354\n",
      "when N= 18, log(N!)= 36.395445 its approximation is 35.438812\n",
      "when N= 19, log(N!)= 39.339884 its approximation is 38.356813\n",
      "when N= 20, log(N!)= 42.335616 its approximation is 41.327436\n",
      "when N= 21, log(N!)= 45.380139 its approximation is 44.348050\n",
      "when N= 22, log(N!)= 48.471181 its approximation is 47.416275\n",
      "when N= 23, log(N!)= 51.606676 its approximation is 50.529948\n",
      "when N= 24, log(N!)= 54.784729 its approximation is 53.687093\n",
      "when N= 25, log(N!)= 58.003605 its approximation is 56.885900\n",
      "when N= 26, log(N!)= 61.261702 its approximation is 60.124702\n",
      "when N= 27, log(N!)= 64.557539 its approximation is 63.401961\n",
      "when N= 28, log(N!)= 67.889743 its approximation is 66.716253\n",
      "when N= 29, log(N!)= 71.257039 its approximation is 70.066256\n",
      "when N= 30, log(N!)= 74.658236 its approximation is 73.450739\n",
      "when N= 31, log(N!)= 78.092224 its approximation is 76.868552\n",
      "when N= 32, log(N!)= 81.557959 its approximation is 80.318621\n",
      "when N= 33, log(N!)= 85.054467 its approximation is 83.799938\n",
      "when N= 34, log(N!)= 88.580828 its approximation is 87.311556\n",
      "when N= 35, log(N!)= 92.136176 its approximation is 90.852583\n",
      "when N= 36, log(N!)= 95.719695 its approximation is 94.422180\n",
      "when N= 37, log(N!)= 99.330612 its approximation is 98.019553\n",
      "when N= 38, log(N!)= 102.968199 its approximation is 101.643952\n",
      "when N= 39, log(N!)= 106.631760 its approximation is 105.294665\n",
      "when N= 40, log(N!)= 110.320640 its approximation is 108.971017\n",
      "when N= 41, log(N!)= 114.034212 its approximation is 112.672369\n",
      "when N= 42, log(N!)= 117.771881 its approximation is 116.398110\n",
      "when N= 43, log(N!)= 121.533082 its approximation is 120.147659\n",
      "when N= 44, log(N!)= 125.317271 its approximation is 123.920463\n",
      "when N= 45, log(N!)= 129.123934 its approximation is 127.715993\n",
      "when N= 46, log(N!)= 132.952575 its approximation is 131.533745\n",
      "when N= 47, log(N!)= 136.802723 its approximation is 135.373235\n",
      "when N= 48, log(N!)= 140.673924 its approximation is 139.234001\n",
      "when N= 49, log(N!)= 144.565744 its approximation is 143.115599\n",
      "when N= 50, log(N!)= 148.477767 its approximation is 147.017605\n",
      "when N= 51, log(N!)= 152.409593 its approximation is 150.939611\n",
      "when N= 52, log(N!)= 156.360836 its approximation is 154.881223\n",
      "when N= 53, log(N!)= 160.331128 its approximation is 158.842066\n",
      "when N= 54, log(N!)= 164.320112 its approximation is 162.821776\n",
      "when N= 55, log(N!)= 168.327445 its approximation is 166.820005\n",
      "when N= 56, log(N!)= 172.352797 its approximation is 170.836414\n",
      "when N= 57, log(N!)= 176.395848 its approximation is 174.870681\n",
      "when N= 58, log(N!)= 180.456291 its approximation is 178.922490\n",
      "when N= 59, log(N!)= 184.533829 its approximation is 182.991541\n",
      "when N= 60, log(N!)= 188.628173 its approximation is 187.077540\n",
      "when N= 61, log(N!)= 192.739047 its approximation is 191.180206\n",
      "when N= 62, log(N!)= 196.866182 its approximation is 195.299265\n",
      "when N= 63, log(N!)= 201.009316 its approximation is 199.434453\n",
      "when N= 64, log(N!)= 205.168199 its approximation is 203.585513\n",
      "when N= 65, log(N!)= 209.342587 its approximation is 207.752198\n",
      "when N= 66, log(N!)= 213.532241 its approximation is 211.934267\n",
      "when N= 67, log(N!)= 217.736934 its approximation is 216.131488\n",
      "when N= 68, log(N!)= 221.956442 its approximation is 220.343633\n",
      "when N= 69, log(N!)= 226.190548 its approximation is 224.570484\n",
      "when N= 70, log(N!)= 230.439044 its approximation is 228.811828\n",
      "when N= 71, log(N!)= 234.701723 its approximation is 233.067457\n",
      "when N= 72, log(N!)= 238.978390 its approximation is 237.337171\n",
      "when N= 73, log(N!)= 243.268849 its approximation is 241.620773\n",
      "when N= 74, log(N!)= 247.572914 its approximation is 245.918074\n",
      "when N= 75, log(N!)= 251.890402 its approximation is 250.228888\n",
      "when N= 76, log(N!)= 256.221136 its approximation is 254.553035\n",
      "when N= 77, log(N!)= 260.564941 its approximation is 258.890340\n",
      "when N= 78, log(N!)= 264.921650 its approximation is 263.240631\n",
      "when N= 79, log(N!)= 269.291098 its approximation is 267.603743\n",
      "when N= 80, log(N!)= 273.673124 its approximation is 271.979513\n",
      "when N= 81, log(N!)= 278.067573 its approximation is 276.367783\n",
      "when N= 82, log(N!)= 282.474293 its approximation is 280.768399\n",
      "when N= 83, log(N!)= 286.893133 its approximation is 285.181209\n",
      "when N= 84, log(N!)= 291.323950 its approximation is 289.606067\n",
      "when N= 85, log(N!)= 295.766601 its approximation is 294.042830\n",
      "when N= 86, log(N!)= 300.220949 its approximation is 298.491358\n",
      "when N= 87, log(N!)= 304.686857 its approximation is 302.951514\n",
      "when N= 88, log(N!)= 309.164194 its approximation is 307.423163\n",
      "when N= 89, log(N!)= 313.652830 its approximation is 311.906176\n",
      "when N= 90, log(N!)= 318.152640 its approximation is 316.400425\n",
      "when N= 91, log(N!)= 322.663499 its approximation is 320.905785\n",
      "when N= 92, log(N!)= 327.185288 its approximation is 325.422134\n",
      "when N= 93, log(N!)= 331.717887 its approximation is 329.949352\n",
      "when N= 94, log(N!)= 336.261182 its approximation is 334.487323\n",
      "when N= 95, log(N!)= 340.815059 its approximation is 339.035932\n",
      "when N= 96, log(N!)= 345.379407 its approximation is 343.595067\n",
      "when N= 97, log(N!)= 349.954118 its approximation is 348.164619\n",
      "when N= 98, log(N!)= 354.539086 its approximation is 352.744480\n",
      "when N= 99, log(N!)= 359.134205 its approximation is 357.334545\n",
      "when N= 100, log(N!)= 363.739376 its approximation is 361.934711\n",
      "The exact value of log(N!) for N=200 is 863.231987\n"
     ]
    }
   ],
   "source": [
    "for i in range(1,101):\n",
    "    i=float(i)\n",
    "    print(\"when N= %d, log(N!)= %f its approximation is %f\" %(i,np.log(float(math.factorial(i))),i*np.log(i+0.5)+np.log(np.sqrt(2*np.pi)*pow(math.e,-i))))\n",
    "print(\"The exact value of log(N!) for N=200 is %f\" %(np.log(np.arange(1,201)).sum()))"
   ]
  },
  {
   "cell_type": "markdown",
   "metadata": {},
   "source": [
    "# Problem8"
   ]
  },
  {
   "cell_type": "code",
   "execution_count": 12,
   "metadata": {},
   "outputs": [],
   "source": [
    "def nCr(n,r):\n",
    "    return np.exp(np.log(np.arange(1,n+1)).sum()-np.log(np.arange(1,r+1)).sum()-np.log(np.arange(1,n-r+1)).sum())"
   ]
  },
  {
   "cell_type": "code",
   "execution_count": 29,
   "metadata": {},
   "outputs": [
    {
     "name": "stdout",
     "output_type": "stream",
     "text": [
      "When k= 95, P_bino(k)= 0.163918  P_hype(k)= 0.184761\n",
      "When k= 96, P_bino(k)= 0.133752  P_hype(k)= 0.142656\n",
      "When k= 97, P_bino(k)= 0.086410  P_hype(k)= 0.085604\n",
      "When k= 98, P_bino(k)= 0.041442  P_hype(k)= 0.037442\n",
      "When k= 99, P_bino(k)= 0.013116  P_hype(k)= 0.010615\n",
      "When k= 100, P_bino(k)= 0.002055  P_hype(k)= 0.001463\n"
     ]
    }
   ],
   "source": [
    "N=1000\n",
    "M=100\n",
    "p=0.94\n",
    "k=[]\n",
    "bino=[]\n",
    "hype=[]\n",
    "for i in range(95,101):\n",
    "    k.append(i)\n",
    "    bino.append(nCr(M,i)*np.power(p,i)*np.power(1-p,M-i))\n",
    "    hype.append(nCr(p*N,i)*nCr((1-p)*N,M-i)/nCr(N,M))\n",
    "    print(\"When k= %d, P_bino(k)= %f  P_hype(k)= %f\" %(i,nCr(M,i)*np.power(p,i)*np.power(1-p,M-i),nCr(p*N,i)*nCr((1-p)*N,M-i)/nCr(N,M)))"
   ]
  },
  {
   "cell_type": "markdown",
   "metadata": {},
   "source": [
    "# problem9"
   ]
  },
  {
   "cell_type": "code",
   "execution_count": 93,
   "metadata": {},
   "outputs": [
    {
     "name": "stdout",
     "output_type": "stream",
     "text": [
      "The mathematical resulf of p(x>=4) = 0.421875\n",
      "The simulation resulf of p(x>=4) = 0.416000\n"
     ]
    }
   ],
   "source": [
    "print(\"The mathematical resulf of p(x>=4) = %f\" %(np.power(0.75,3)))\n",
    "n=1000\n",
    "sample=np.random.geometric(0.25,n)\n",
    "print(\"The simulation resulf of p(x>=4) = %f\" % (sum(sample>3)/n))"
   ]
  },
  {
   "cell_type": "markdown",
   "metadata": {},
   "source": [
    "# problem10(f,c)"
   ]
  },
  {
   "cell_type": "code",
   "execution_count": 120,
   "metadata": {},
   "outputs": [
    {
     "name": "stderr",
     "output_type": "stream",
     "text": [
      "E:\\Anaconda\\lib\\site-packages\\ipykernel_launcher.py:5: DeprecationWarning: `factorial` is deprecated!\n",
      "Importing `factorial` from scipy.misc is deprecated in scipy 1.0.0. Use `scipy.special.factorial` instead.\n",
      "  \"\"\"\n",
      "E:\\Anaconda\\lib\\site-packages\\ipykernel_launcher.py:4: DeprecationWarning: `factorial` is deprecated!\n",
      "Importing `factorial` from scipy.misc is deprecated in scipy 1.0.0. Use `scipy.special.factorial` instead.\n",
      "  after removing the cwd from sys.path.\n"
     ]
    },
    {
     "data": {
      "text/plain": [
       "<matplotlib.legend.Legend at 0x1c88476aeb8>"
      ]
     },
     "execution_count": 120,
     "metadata": {},
     "output_type": "execute_result"
    },
    {
     "data": {
      "image/png": "[encoded data removed]",
      "text/plain": [
       "<matplotlib.figure.Figure at 0x1c8846cc908>"
      ]
     },
     "metadata": {},
     "output_type": "display_data"
    }
   ],
   "source": [
    "from scipy.misc import factorial\n",
    "n=100\n",
    "p=0.01\n",
    "x=np.arange(1,101)\n",
    "pois=1/factorial(x)/math.e\n",
    "bino=nCr(n,x)*np.power(p,x)*np.power(1-p,n-x)\n",
    "plt.scatter(x,pois)\n",
    "plt.scatter(x,bino)\n",
    "plt.legend([\"pois\",\"bino\"])"
   ]
  },
  {
   "cell_type": "markdown",
   "metadata": {},
   "source": [
    "# problem10(c)"
   ]
  },
  {
   "cell_type": "code",
   "execution_count": 6,
   "metadata": {},
   "outputs": [
    {
     "data": {
      "text/plain": [
       "array([0, 0, 0, 1, 2, 0, 1, 0, 3, 1, 1, 3, 0, 0, 0, 0, 3, 0, 4, 0, 1, 3,\n",
       "       2, 0, 1, 2, 2, 1, 0, 0, 1, 1, 2, 1, 0, 0, 0, 0, 0, 1, 1, 2, 3, 0,\n",
       "       1, 2, 1, 0, 2, 0, 2, 0, 1, 0, 1, 2, 0, 0, 0, 0, 0, 1, 1, 1, 1, 1,\n",
       "       1, 0, 0, 2, 0, 2, 1, 1, 0, 0, 3, 0, 1, 0, 2, 0, 0, 1, 2, 1, 3, 0,\n",
       "       0, 2, 2, 2, 1, 2, 2, 1, 4, 1, 1, 2, 1, 0, 1, 0, 2, 0, 1, 2, 1, 0,\n",
       "       1, 1, 1, 1, 2, 0, 0, 2, 3, 0, 1, 2, 2, 1, 0, 0, 0, 0, 2, 3, 1, 2,\n",
       "       1, 1, 1, 1, 1, 1, 0, 1, 0, 0, 1, 0, 1, 2, 0, 1, 1, 0, 0, 2, 1, 0,\n",
       "       0, 0, 1, 2, 3, 2, 0, 1, 0, 0, 1, 1, 2, 0, 0, 0, 2, 0, 1, 1, 0, 1,\n",
       "       1, 1, 0, 2, 1, 1, 0, 1, 1, 1, 1, 1, 3, 2, 1, 0, 0, 2, 2, 1, 0, 0,\n",
       "       4, 0, 0, 0, 1, 1, 0, 0, 5, 0, 0, 2, 2, 1, 2, 2, 0, 1, 0, 1, 2, 2,\n",
       "       1, 4, 2, 1, 0, 3, 0, 1, 2, 0, 1, 3, 0, 2, 2, 0, 1, 2, 2, 2, 0, 2,\n",
       "       0, 0, 0, 1, 1, 1, 0, 0, 2, 1, 1, 0, 1, 1, 2, 1, 0, 0, 0, 1, 1, 1,\n",
       "       2, 1, 3, 1, 0, 1, 2, 0, 1, 2, 1, 1, 1, 0, 1, 0, 4, 0, 1, 1, 2, 2,\n",
       "       1, 0, 0, 1, 1, 2, 1, 1, 1, 1, 1, 0, 2, 1, 1, 2, 3, 1, 1, 0, 1, 0,\n",
       "       0, 1, 0, 1, 1, 0, 0, 1, 0, 0, 0, 1, 0, 2, 0, 0, 2, 1, 2, 3, 1, 0,\n",
       "       4, 1, 2, 2, 0, 1, 2, 0, 0, 1, 1, 1, 1, 2, 0, 0, 1, 0, 1, 1, 2, 3,\n",
       "       0, 1, 0, 3, 0, 0, 0, 0, 0, 0, 0, 0, 0, 2, 3, 2, 1, 1, 0, 0, 2, 0,\n",
       "       1, 0, 2, 0, 3, 0, 1, 1, 3, 1, 0, 1, 1, 2, 3, 2, 2, 2, 0, 1, 2, 3,\n",
       "       1, 0, 1, 1, 0, 1, 1, 2, 0, 1, 2, 0, 1, 1, 0, 0, 1, 2, 1, 0, 1, 3,\n",
       "       2, 2, 3, 1, 0, 0, 3, 1, 0, 1, 1, 1, 1, 2, 2, 0, 1, 0, 3, 3, 2, 0,\n",
       "       1, 2, 0, 2, 0, 0, 1, 0, 1, 0, 1, 0, 0, 0, 3, 1, 0, 2, 1, 2, 0, 1,\n",
       "       2, 1, 0, 0, 0, 4, 0, 1, 1, 0, 0, 0, 0, 1, 0, 3, 1, 2, 2, 2, 0, 0,\n",
       "       1, 2, 3, 0, 3, 2, 2, 1, 2, 1, 2, 1, 0, 0, 2, 0, 1, 0, 0, 0, 1, 1,\n",
       "       1, 1, 2, 0, 0, 1, 2, 1, 1, 1, 1, 0, 1, 3, 2, 2, 1, 1, 0, 2, 1, 1,\n",
       "       1, 0, 0, 0, 0, 0, 2, 0, 1, 1, 0, 4, 3, 0, 1, 3, 0, 1, 3, 1, 0, 1,\n",
       "       1, 2, 0, 2, 1, 0, 3, 1, 1, 1, 1, 1, 1, 1, 0, 1, 1, 1, 2, 0, 2, 2,\n",
       "       0, 0, 0, 2, 2, 0, 0, 1, 0, 2, 2, 2, 0, 0, 1, 5, 0, 3, 0, 1, 0, 2,\n",
       "       0, 1, 1, 1, 1, 1, 2, 0, 1, 1, 0, 0, 2, 0, 0, 1, 1, 2, 0, 0, 1, 2,\n",
       "       0, 0, 1, 1, 0, 2, 1, 1, 1, 1, 2, 0, 2, 2, 1, 1, 0, 0, 1, 0, 0, 0,\n",
       "       1, 0, 2, 1, 1, 1, 1, 0, 1, 0, 0, 1, 1, 1, 3, 0, 2, 1, 4, 0, 3, 1,\n",
       "       1, 1, 2, 2, 3, 0, 0, 0, 0, 1, 1, 0, 2, 0, 1, 2, 0, 2, 1, 0, 1, 1,\n",
       "       0, 1, 0, 2, 0, 1, 1, 0, 0, 2, 0, 2, 0, 1, 0, 2, 3, 0, 2, 1, 1, 2,\n",
       "       1, 0, 1, 2, 2, 0, 1, 0, 2, 0, 1, 1, 1, 1, 0, 3, 0, 1, 1, 1, 2, 0,\n",
       "       3, 1, 0, 0, 1, 1, 2, 1, 1, 2, 1, 1, 0, 0, 5, 1, 0, 0, 1, 2, 3, 0,\n",
       "       1, 1, 1, 0, 0, 1, 1, 0, 0, 2, 1, 1, 0, 1, 1, 1, 2, 3, 1, 2, 2, 1,\n",
       "       1, 0, 1, 1, 1, 1, 0, 0, 2, 2, 1, 2, 3, 0, 1, 1, 4, 2, 0, 1, 0, 1,\n",
       "       0, 0, 1, 4, 2, 1, 2, 3, 2, 0, 2, 0, 1, 3, 0, 1, 2, 3, 1, 1, 0, 0,\n",
       "       1, 0, 0, 0, 0, 0, 0, 1, 0, 1, 2, 1, 2, 1, 0, 1, 1, 2, 1, 3, 0, 0,\n",
       "       2, 0, 3, 1, 2, 0, 0, 1, 3, 1, 0, 1, 1, 2, 0, 0, 3, 1, 1, 0, 0, 2,\n",
       "       1, 1, 1, 0, 0, 0, 0, 1, 2, 5, 0, 1, 2, 0, 0, 0, 0, 0, 1, 1, 1, 1,\n",
       "       1, 0, 0, 1, 0, 0, 1, 2, 2, 0, 0, 1, 1, 2, 0, 1, 1, 0, 0, 1, 1, 3,\n",
       "       0, 3, 0, 1, 1, 1, 0, 2, 1, 0, 1, 0, 0, 1, 3, 1, 1, 0, 1, 2, 3, 1,\n",
       "       0, 0, 2, 1, 1, 0, 0, 1, 2, 5, 1, 1, 0, 2, 1, 1, 3, 1, 1, 2, 0, 1,\n",
       "       0, 0, 2, 0, 0, 0, 1, 0, 1, 1, 2, 1, 2, 0, 0, 0, 2, 0, 1, 2, 2, 0,\n",
       "       1, 0, 0, 0, 1, 0, 1, 0, 1, 1, 1, 0, 1, 1, 1, 0, 0, 2, 1, 0, 4, 0,\n",
       "       2, 2, 2, 3, 0, 2, 1, 3, 1, 1])"
      ]
     },
     "execution_count": 6,
     "metadata": {},
     "output_type": "execute_result"
    }
   ],
   "source": [
    "mock_possion_sample=np.random.binomial(100,0.01,1000)\n",
    "mock_possion_sample"
   ]
  },
  {
   "cell_type": "markdown",
   "metadata": {},
   "source": [
    "# Problem11"
   ]
  },
  {
   "cell_type": "markdown",
   "metadata": {},
   "source": [
    "The mathematical result: \n",
    "\n",
    "$ P(X>\\mu+a\\sigma) = P(\\frac{X-\\mu}{\\sigma}>a)=1-\\Psi(a)=\\Psi(-a)$\n",
    "\n",
    "$\\Psi(-1)=0.1587$\n",
    "\n",
    "$\\Psi(-2)=0.0228$\n",
    "\n",
    "$\\Psi(-2)=0.0013$"
   ]
  },
  {
   "cell_type": "code",
   "execution_count": 42,
   "metadata": {},
   "outputs": [
    {
     "name": "stdout",
     "output_type": "stream",
     "text": [
      "when a= 1  p(x>miu+a*sigma)= 0.162800\n",
      "when a= 2  p(x>miu+a*sigma)= 0.022800\n",
      "when a= 3  p(x>miu+a*sigma)= 0.001100\n"
     ]
    }
   ],
   "source": [
    "miu=0\n",
    "sigma=1\n",
    "n=10000\n",
    "sample=np.random.normal(loc=miu,scale=sigma,size=n)\n",
    "for i in range(1,4):\n",
    "    p=sum(sample>miu+i*sigma)/n\n",
    "    print(\"when a= %d  p(x>miu+a*sigma)= %f\" %(i,p))"
   ]
  },
  {
   "cell_type": "markdown",
   "metadata": {},
   "source": [
    "# Problem12"
   ]
  },
  {
   "cell_type": "code",
   "execution_count": 50,
   "metadata": {},
   "outputs": [
    {
     "name": "stdout",
     "output_type": "stream",
     "text": [
      "the simulation for expected value of geometric distribution when p=0.3 is 3.323000, its variance is 7.720671\n"
     ]
    }
   ],
   "source": [
    "x=[]\n",
    "p=0.3\n",
    "for i in range(1000):\n",
    "    count=0\n",
    "    i=1\n",
    "    while i >p:\n",
    "        count=count+1\n",
    "        i=np.random.uniform()\n",
    "    x.append(count)\n",
    "print(\"the simulation for expected value of geometric distribution when p=0.3 is %f, its variance is %f\" %(np.mean(x),np.var(x)))"
   ]
  },
  {
   "cell_type": "markdown",
   "metadata": {},
   "source": [
    "The theoretical expect of geometic distribution when p=0.3 is $\\frac{1}{p}=3.33$\n",
    "\n",
    "The theoretical variance of geometic distribution when p=0.3 is $\\frac{1-p}{p^2}=7.78$"
   ]
  },
  {
   "cell_type": "code",
   "execution_count": 58,
   "metadata": {},
   "outputs": [
    {
     "name": "stdout",
     "output_type": "stream",
     "text": [
      "the simulation for expected value of exponential distribution when lamda= 2 is 0.468689, its variance is 0.207164\n"
     ]
    }
   ],
   "source": [
    "U=np.random.uniform(0,1,1000)\n",
    "lamda=2\n",
    "x=-1/lamda*np.log(U)\n",
    "print(\"the simulation for expected value of exponential distribution when lamda= 2 is %f, its variance is %f\" %(np.mean(x),np.var(x)))"
   ]
  },
  {
   "cell_type": "markdown",
   "metadata": {},
   "source": [
    "The theoretical expect of exponential distribution when p=0.3 is $\\frac{1}{\\lambda}=0.5$\n",
    "\n",
    "The theoretical variance of exponential distribution when p=0.3 is $\\frac{1}{\\lambda^2}=0.25$"
   ]
  }
 ],
 "metadata": {
  "kernelspec": {
   "display_name": "Python 3",
   "language": "python",
   "name": "python3"
  },
  "language_info": {
   "codemirror_mode": {
    "name": "ipython",
    "version": 3
   },
   "file_extension": ".py",
   "mimetype": "text/x-python",
   "name": "python",
   "nbconvert_exporter": "python",
   "pygments_lexer": "ipython3",
   "version": "3.6.4"
  }
 },
 "nbformat": 4,
 "nbformat_minor": 2
}

{
 "cells": [
  {
   "cell_type": "code",
   "execution_count": 1,
   "metadata": {},
   "outputs": [],
   "source": [
    "import pandas as pd\n",
    "import numpy as np\n",
    "import matplotlib.pyplot as plt\n",
    "import math"
   ]
  },
  {
   "cell_type": "markdown",
   "metadata": {},
   "source": [
    "## problem1"
   ]
  },
  {
   "cell_type": "code",
   "execution_count": 528,
   "metadata": {},
   "outputs": [
    {
     "data": {
      "text/plain": [
       "(array([  0.,   0.,   0.,   0.,   0.,   0.,   0.,   0.,   3.,   0.,   1.,\n",
       "          0.,   1.,   0.,   0.,   2.,   5.,   7.,   7.,  14.,  13.,  22.,\n",
       "         32.,  32.,  47.,  62.,  64.,  84.,  94., 139., 157., 162., 198.,\n",
       "        213., 265., 246., 254., 299., 327., 304., 298., 286., 281., 276.,\n",
       "        258., 217., 252., 207., 190., 171., 130., 134.,  99.,  80.,  69.,\n",
       "         76.,  62.,  43.,  51.,  44.,  37.,  34.,  39.,  35.,  33.,  30.,\n",
       "         28.,  32.,  36.,  19.,  34.,  40.,  42.,  38.,  45.,  36.,  49.,\n",
       "         37.,  40.,  51.,  45.,  46.,  41.,  32.,  38.,  31.,  29.,  30.,\n",
       "         42.,  34.,  34.,  38.,  33.,  31.,  28.,  27.,  23.,  36.,  30.,\n",
       "         23.,  20.,  28.,  16.,  14.,  18.,  13.,  18.,  22.,  11.,  15.,\n",
       "         10.,   9.,  11.,  12.,  11.,   6.,   6.,   7.,  10.,   5.,   6.,\n",
       "          3.,   6.,   7.,   5.,   1.,   6.,   3.,   2.,   2.,   3.,   1.,\n",
       "          1.,   2.,   0.,   1.,   0.,   1.,   0.,   0.,   0.,   0.,   0.,\n",
       "          1.,   0.,   0.,   1.,   1.,   0.,   0.,   0.,   0.,   0.,   0.,\n",
       "          0.,   0.,   1.,   0.,   0.]),\n",
       " array([-5.00000000e+00, -4.90000000e+00, -4.80000000e+00, -4.70000000e+00,\n",
       "        -4.60000000e+00, -4.50000000e+00, -4.40000000e+00, -4.30000000e+00,\n",
       "        -4.20000000e+00, -4.10000000e+00, -4.00000000e+00, -3.90000000e+00,\n",
       "        -3.80000000e+00, -3.70000000e+00, -3.60000000e+00, -3.50000000e+00,\n",
       "        -3.40000000e+00, -3.30000000e+00, -3.20000000e+00, -3.10000000e+00,\n",
       "        -3.00000000e+00, -2.90000000e+00, -2.80000000e+00, -2.70000000e+00,\n",
       "        -2.60000000e+00, -2.50000000e+00, -2.40000000e+00, -2.30000000e+00,\n",
       "        -2.20000000e+00, -2.10000000e+00, -2.00000000e+00, -1.90000000e+00,\n",
       "        -1.80000000e+00, -1.70000000e+00, -1.60000000e+00, -1.50000000e+00,\n",
       "        -1.40000000e+00, -1.30000000e+00, -1.20000000e+00, -1.10000000e+00,\n",
       "        -1.00000000e+00, -9.00000000e-01, -8.00000000e-01, -7.00000000e-01,\n",
       "        -6.00000000e-01, -5.00000000e-01, -4.00000000e-01, -3.00000000e-01,\n",
       "        -2.00000000e-01, -1.00000000e-01, -1.77635684e-14,  1.00000000e-01,\n",
       "         2.00000000e-01,  3.00000000e-01,  4.00000000e-01,  5.00000000e-01,\n",
       "         6.00000000e-01,  7.00000000e-01,  8.00000000e-01,  9.00000000e-01,\n",
       "         1.00000000e+00,  1.10000000e+00,  1.20000000e+00,  1.30000000e+00,\n",
       "         1.40000000e+00,  1.50000000e+00,  1.60000000e+00,  1.70000000e+00,\n",
       "         1.80000000e+00,  1.90000000e+00,  2.00000000e+00,  2.10000000e+00,\n",
       "         2.20000000e+00,  2.30000000e+00,  2.40000000e+00,  2.50000000e+00,\n",
       "         2.60000000e+00,  2.70000000e+00,  2.80000000e+00,  2.90000000e+00,\n",
       "         3.00000000e+00,  3.10000000e+00,  3.20000000e+00,  3.30000000e+00,\n",
       "         3.40000000e+00,  3.50000000e+00,  3.60000000e+00,  3.70000000e+00,\n",
       "         3.80000000e+00,  3.90000000e+00,  4.00000000e+00,  4.10000000e+00,\n",
       "         4.20000000e+00,  4.30000000e+00,  4.40000000e+00,  4.50000000e+00,\n",
       "         4.60000000e+00,  4.70000000e+00,  4.80000000e+00,  4.90000000e+00,\n",
       "         5.00000000e+00,  5.10000000e+00,  5.20000000e+00,  5.30000000e+00,\n",
       "         5.40000000e+00,  5.50000000e+00,  5.60000000e+00,  5.70000000e+00,\n",
       "         5.80000000e+00,  5.90000000e+00,  6.00000000e+00,  6.10000000e+00,\n",
       "         6.20000000e+00,  6.30000000e+00,  6.40000000e+00,  6.50000000e+00,\n",
       "         6.60000000e+00,  6.70000000e+00,  6.80000000e+00,  6.90000000e+00,\n",
       "         7.00000000e+00,  7.10000000e+00,  7.20000000e+00,  7.30000000e+00,\n",
       "         7.40000000e+00,  7.50000000e+00,  7.60000000e+00,  7.70000000e+00,\n",
       "         7.80000000e+00,  7.90000000e+00,  8.00000000e+00,  8.10000000e+00,\n",
       "         8.20000000e+00,  8.30000000e+00,  8.40000000e+00,  8.50000000e+00,\n",
       "         8.60000000e+00,  8.70000000e+00,  8.80000000e+00,  8.90000000e+00,\n",
       "         9.00000000e+00,  9.10000000e+00,  9.20000000e+00,  9.30000000e+00,\n",
       "         9.40000000e+00,  9.50000000e+00,  9.60000000e+00,  9.70000000e+00,\n",
       "         9.80000000e+00,  9.90000000e+00,  1.00000000e+01,  1.01000000e+01,\n",
       "         1.02000000e+01,  1.03000000e+01,  1.04000000e+01,  1.05000000e+01,\n",
       "         1.06000000e+01,  1.07000000e+01,  1.08000000e+01,  1.09000000e+01]),\n",
       " <a list of 159 Patch objects>)"
      ]
     },
     "execution_count": 528,
     "metadata": {},
     "output_type": "execute_result"
    },
    {
     "data": {
      "image/png": "[encoded data removed]",
      "text/plain": [
       "<matplotlib.figure.Figure at 0x247c440ada0>"
      ]
     },
     "metadata": {},
     "output_type": "display_data"
    }
   ],
   "source": [
    "control = np.random.binomial(n=1,p=0.25,size=8000)\n",
    "g1 = np.random.normal(loc=3,scale=2,size=8000)\n",
    "g2 = np.random.normal(loc=-1,scale=0.8,size=8000)\n",
    "data = control * g1 + (1-control) *g2\n",
    "plt.hist(data, bins=np.arange(-5,11,0.1))"
   ]
  },
  {
   "cell_type": "markdown",
   "metadata": {},
   "source": [
    "## problem2"
   ]
  },
  {
   "cell_type": "code",
   "execution_count": 529,
   "metadata": {},
   "outputs": [],
   "source": [
    "from scipy.stats import norm\n",
    "def density(data,miu,sigma):\n",
    "    n = len(miu)\n",
    "    l = len(data)\n",
    "    density = norm.pdf(data,miu[0],sigma[0]**0.5).reshape([1,l])\n",
    "    for i in range(1,n):\n",
    "        density = np.append(density, norm.pdf(data,miu[i],sigma[i]**0.5).reshape([1,l]), axis = 0)\n",
    "    return density\n",
    "#data is N size array, miu,sigma,alpha is M size array\n",
    "def iteration(miu, sigma, alpha, data):\n",
    "    M = len(miu)\n",
    "    N = len(data)\n",
    "    Px = density(data,miu,sigma)\n",
    "    alpha_Px = Px * alpha.reshape([M,1])\n",
    "    Pl = alpha_Px / alpha_Px.sum(axis = 0)\n",
    "    Pl_sum = Pl.sum(axis = 1)\n",
    "    miu1 = (Pl * data.reshape([1,N])).sum(axis = 1) / Pl_sum\n",
    "    sigma1 = ( Pl * np.power( (data.reshape([1,N]) - miu1.reshape([M,1])), 2 ) ).sum(axis = 1) /  Pl_sum\n",
    "    alpha1 = Pl_sum/N\n",
    "    likelihood = np.log(alpha_Px.sum())\n",
    "    return miu1, sigma1, alpha1, likelihood"
   ]
  },
  {
   "cell_type": "code",
   "execution_count": 530,
   "metadata": {},
   "outputs": [
    {
     "name": "stdout",
     "output_type": "stream",
     "text": [
      "[ 2.30415574 -1.16134347]\n",
      "[4.42441781 0.48581023]\n",
      "[0.33770865 0.66229135]\n",
      "[ 2.29989032 -1.07624062]\n",
      "[5.15523198 0.52871537]\n",
      "[0.32144079 0.67855921]\n",
      "[ 2.33802798 -1.04229491]\n",
      "[5.37613516 0.55379017]\n",
      "[0.31100002 0.68899998]\n",
      "[ 2.38938908 -1.02794054]\n",
      "[5.39546949 0.56930148]\n",
      "[0.30343169 0.69656831]\n",
      "[ 2.44168825 -1.02121336]\n",
      "[5.34010444 0.57962598]\n",
      "[0.29749587 0.70250413]\n",
      "[ 2.49045998 -1.01751201]\n",
      "[5.26106433 0.58710047]\n",
      "[0.29261853 0.70738147]\n",
      "[ 2.5344771  -1.01506814]\n",
      "[5.17813892 0.59293256]\n",
      "[0.28850279 0.71149721]\n",
      "[ 2.5737384  -1.01319551]\n",
      "[5.09864432 0.59773455]\n",
      "[0.28497349 0.71502651]\n",
      "[ 2.6086465  -1.01162224]\n",
      "[5.02499494 0.60182426]\n",
      "[0.28191493 0.71808507]\n",
      "[ 2.63969362 -1.01023628]\n",
      "[4.95770837 0.60537814]\n",
      "[0.27924423 0.72075577]\n",
      "[ 2.66735163 -1.00898803]\n",
      "[4.89659208 0.60850396]\n",
      "[0.27689868 0.72310132]\n",
      "[ 2.69204002 -1.00785266]\n",
      "[4.84121069 0.61127437]\n",
      "[0.27482912 0.72517088]\n",
      "[ 2.71412199 -1.00681552]\n",
      "[4.79106835 0.61374255]\n",
      "[0.27299601 0.72700399]\n",
      "[ 2.73390941 -1.00586643]\n",
      "[4.74567798 0.6159497 ]\n",
      "[0.27136707 0.72863293]\n",
      "[ 2.75167007 -1.00499732]\n",
      "[4.70458578 0.61792904]\n",
      "[0.26991554 0.73008446]\n",
      "[ 2.76763461 -1.00420136]\n",
      "[4.66737787 0.61970804]\n",
      "[0.26861904 0.73138096]\n",
      "[ 2.7820025 -1.0034725]\n",
      "[4.63368016 0.62130978]\n",
      "[0.26745866 0.73254134]\n",
      "[ 2.79494715 -1.00280528]\n",
      "[4.60315564 0.62275396]\n",
      "[0.26641833 0.73358167]\n",
      "[ 2.80662    -1.00219473]\n",
      "[4.57550104 0.62405756]\n",
      "[0.26548425 0.73451575]\n",
      "[ 2.81715395 -1.00163628]\n",
      "[4.55044332 0.62523531]\n",
      "[0.26464451 0.73535549]\n",
      "[ 2.82666608 -1.00112574]\n",
      "[4.52773647 0.62630013]\n",
      "[0.26388878 0.73611122]\n",
      "[ 2.83526001 -1.00065924]\n",
      "[4.50715862 0.62726338]\n",
      "[0.26320805 0.73679195]\n",
      "[ 2.8430277  -1.00023321]\n",
      "[4.48850949 0.62813514]\n",
      "[0.2625944 0.7374056]\n",
      "[ 2.85005108 -0.99984434]\n",
      "[4.47160806 0.62892435]\n",
      "[0.26204086 0.73795914]\n",
      "[ 2.85640328 -0.99948958]\n",
      "[4.45629063 0.62963901]\n",
      "[0.26154128 0.73845872]\n",
      "[ 2.86214977 -0.9991661 ]\n",
      "[4.44240904 0.63028628]\n",
      "[0.26109019 0.73890981]\n",
      "[ 2.86734929 -0.99887129]\n",
      "[4.42982909 0.6308726 ]\n",
      "[0.26068271 0.73931729]\n",
      "[ 2.87205459 -0.99860274]\n",
      "[4.4184292  0.63140376]\n",
      "[0.26031452 0.73968548]\n",
      "[ 2.87631315 -0.99835823]\n",
      "[4.40809917 0.63188496]\n",
      "[0.25998174 0.74001826]\n",
      "[ 2.88016773 -0.9981357 ]\n",
      "[4.39873907 0.63232092]\n",
      "[0.25968089 0.74031911]\n",
      "[ 2.88365691 -0.99793327]\n",
      "[4.39025829 0.63271589]\n",
      "[0.25940885 0.74059115]\n",
      "[ 2.8868155  -0.99774918]\n",
      "[4.38257465 0.63307374]\n",
      "[0.25916283 0.74083717]\n",
      "[ 2.88967492 -0.99758183]\n",
      "[4.37561361 0.63339793]\n",
      "[0.2589403 0.7410597]\n",
      "[ 2.89226359 -0.99742977]\n",
      "[4.36930755 0.63369163]\n",
      "[0.25873899 0.74126101]\n",
      "[ 2.8946072  -0.99729163]\n",
      "[4.36359516 0.63395769]\n",
      "[0.25855688 0.74144312]\n",
      "[ 2.89672896 -0.99716618]\n",
      "[4.3584208  0.63419872]\n",
      "[0.2583921 0.7416079]\n",
      "[ 2.8986499  -0.99705228]\n",
      "[4.35373403 0.63441704]\n",
      "[0.25824301 0.74175699]\n",
      "[ 2.90038904 -0.9969489 ]\n",
      "[4.3494891  0.63461481]\n",
      "[0.2581081 0.7418919]\n",
      "[ 2.90196356 -0.99685509]\n",
      "[4.34564452 0.63479393]\n",
      "[0.25798601 0.74201399]\n",
      "[ 2.90338907 -0.99676998]\n",
      "[4.34216269 0.63495617]\n",
      "[0.25787552 0.74212448]\n",
      "[ 2.90467964 -0.99669277]\n",
      "[4.33900948 0.63510311]\n",
      "[0.25777553 0.74222447]\n",
      "[ 2.90584805 -0.99662276]\n",
      "[4.336154   0.63523619]\n",
      "[0.25768504 0.74231496]\n",
      "[ 2.90690586 -0.99655927]\n",
      "[4.33356821 0.63535671]\n",
      "[0.25760313 0.74239687]\n",
      "[ 2.90786353 -0.99650171]\n",
      "[4.33122671 0.63546585]\n",
      "[0.257529 0.742471]\n",
      "[ 2.90873054 -0.99644953]\n",
      "[4.32910649 0.63556468]\n",
      "[0.25746191 0.74253809]\n",
      "[ 2.90951545 -0.99640223]\n",
      "[4.32718669 0.63565418]\n",
      "[0.25740118 0.74259882]\n",
      "[ 2.91022605 -0.99635937]\n",
      "[4.3254484  0.63573522]\n",
      "[0.25734621 0.74265379]\n",
      "[ 2.91086935 -0.99632053]\n",
      "[4.32387449 0.6358086 ]\n",
      "[0.25729646 0.74270354]\n",
      "[ 2.91145174 -0.99628534]\n",
      "[4.32244945 0.63587505]\n",
      "[0.25725142 0.74274858]\n",
      "[ 2.91197897 -0.99625346]\n",
      "[4.32115922 0.63593521]\n",
      "[0.25721066 0.74278934]\n",
      "[ 2.91245627 -0.99622457]\n",
      "[4.31999108 0.63598968]\n",
      "[0.25717376 0.74282624]\n",
      "[ 2.91288836 -0.9961984 ]\n",
      "[4.31893347 0.636039  ]\n",
      "[0.25714036 0.74285964]\n",
      "[ 2.91327953 -0.9961747 ]\n",
      "[4.31797596 0.63608365]\n",
      "[0.25711013 0.74288987]\n",
      "[ 2.91363364 -0.99615323]\n",
      "[4.31710909 0.63612408]\n",
      "[0.25708276 0.74291724]\n",
      "[ 2.91395421 -0.99613379]\n",
      "[4.31632428 0.63616068]\n",
      "[0.25705799 0.74294201]\n",
      "[ 2.91424441 -0.99611618]\n",
      "[4.31561378 0.63619382]\n",
      "[0.25703557 0.74296443]\n",
      "[ 2.91450711 -0.99610023]\n",
      "[4.31497055 0.63622382]\n",
      "[0.25701527 0.74298473]\n",
      "[ 2.91474493 -0.99608579]\n",
      "[4.31438823 0.63625098]\n",
      "[0.2569969 0.7430031]\n",
      "[ 2.91496022 -0.99607271]\n",
      "[4.31386105 0.63627557]\n",
      "[0.25698027 0.74301973]\n",
      "[ 2.91515511 -0.99606087]\n",
      "[4.31338381 0.63629783]\n",
      "[0.25696521 0.74303479]\n",
      "[ 2.91533154 -0.99605015]\n",
      "[4.31295176 0.63631799]\n",
      "[0.25695159 0.74304841]\n",
      "[ 2.91549125 -0.99604044]\n",
      "[4.31256064 0.63633623]\n",
      "[0.25693925 0.74306075]\n",
      "[ 2.91563582 -0.99603164]\n",
      "[4.31220657 0.63635275]\n",
      "[0.25692808 0.74307192]\n",
      "[ 2.9157667  -0.99602368]\n",
      "[4.31188603 0.6363677 ]\n",
      "[0.25691797 0.74308203]\n",
      "[ 2.91588518 -0.99601648]\n",
      "[4.31159587 0.63638124]\n",
      "[0.25690882 0.74309118]\n",
      "[ 2.91599243 -0.99600995]\n",
      "[4.31133319 0.63639349]\n",
      "[0.25690054 0.74309946]\n",
      "[ 2.91608951 -0.99600404]\n",
      "[4.3110954  0.63640458]\n",
      "[0.25689304 0.74310696]\n",
      "[ 2.9161774 -0.9959987]\n",
      "[4.31088014 0.63641463]\n",
      "[0.25688626 0.74311374]\n",
      "[ 2.91625696 -0.99599385]\n",
      "[4.31068527 0.63642372]\n",
      "[0.25688011 0.74311989]\n",
      "[ 2.91632898 -0.99598947]\n",
      "[4.31050887 0.63643195]\n",
      "[0.25687455 0.74312545]\n",
      "[ 2.91639418 -0.9959855 ]\n",
      "[4.31034918 0.6364394 ]\n",
      "[0.25686952 0.74313048]\n",
      "[ 2.91645319 -0.99598191]\n",
      "[4.31020462 0.63644614]\n",
      "[0.25686496 0.74313504]\n",
      "[ 2.91650662 -0.99597865]\n",
      "[4.31007376 0.63645224]\n",
      "[0.25686083 0.74313917]\n",
      "[ 2.91655498 -0.99597571]\n",
      "[4.3099553  0.63645777]\n",
      "[0.2568571 0.7431429]\n",
      "[ 2.91659876 -0.99597304]\n",
      "[4.30984806 0.63646277]\n",
      "[0.25685372 0.74314628]\n",
      "[ 2.91663839 -0.99597063]\n",
      "[4.30975099 0.6364673 ]\n",
      "[0.25685066 0.74314934]\n",
      "[ 2.91667426 -0.99596844]\n",
      "[4.30966311 0.6364714 ]\n",
      "[0.25684789 0.74315211]\n",
      "[ 2.91670674 -0.99596647]\n",
      "[4.30958356 0.63647511]\n",
      "[0.25684538 0.74315462]\n",
      "[ 2.91673613 -0.99596468]\n",
      "[4.30951155 0.63647847]\n",
      "[0.25684311 0.74315689]\n",
      "[ 2.91676274 -0.99596305]\n",
      "[4.30944637 0.63648151]\n",
      "[0.25684106 0.74315894]\n",
      "[ 2.91678683 -0.99596159]\n",
      "[4.30938736 0.63648427]\n",
      "[0.2568392 0.7431608]\n",
      "[ 2.91680864 -0.99596026]\n",
      "[4.30933394 0.63648676]\n",
      "[0.25683751 0.74316249]\n",
      "[ 2.91682838 -0.99595906]\n",
      "[4.30928559 0.63648902]\n",
      "[0.25683599 0.74316401]\n",
      "[ 2.91684625 -0.99595797]\n",
      "[4.30924182 0.63649106]\n",
      "[0.25683461 0.74316539]\n",
      "[ 2.91686242 -0.99595698]\n",
      "[4.30920219 0.63649291]\n",
      "[0.25683336 0.74316664]\n",
      "[ 2.91687706 -0.99595609]\n",
      "[4.30916632 0.63649458]\n",
      "[0.25683223 0.74316777]\n",
      "[ 2.91689032 -0.99595528]\n",
      "[4.30913385 0.63649609]\n",
      "[0.25683121 0.74316879]\n",
      "[ 2.91690232 -0.99595455]\n",
      "[4.30910446 0.63649747]\n",
      "[0.25683028 0.74316972]\n",
      "[ 2.91691318 -0.99595389]\n",
      "[4.30907785 0.63649871]\n",
      "[0.25682944 0.74317056]\n",
      "[ 2.91692301 -0.99595329]\n",
      "[4.30905377 0.63649983]\n",
      "[0.25682868 0.74317132]\n",
      "[ 2.91693191 -0.99595275]\n",
      "[4.30903196 0.63650085]\n",
      "[0.256828 0.743172]\n",
      "[ 2.91693997 -0.99595226]\n",
      "[4.30901223 0.63650177]\n",
      "[0.25682737 0.74317263]\n",
      "[ 2.91694726 -0.99595181]\n",
      "[4.30899436 0.6365026 ]\n",
      "[0.25682681 0.74317319]\n",
      "[ 2.91695386 -0.99595141]\n",
      "[4.30897819 0.63650336]\n",
      "[0.2568263 0.7431737]\n",
      "[ 2.91695984 -0.99595105]\n",
      "[4.30896355 0.63650404]\n",
      "[0.25682584 0.74317416]\n",
      "[ 2.91696525 -0.99595072]\n",
      "[4.3089503  0.63650466]\n",
      "[0.25682542 0.74317458]\n",
      "[ 2.91697015 -0.99595042]\n",
      "[4.3089383  0.63650522]\n",
      "[0.25682504 0.74317496]\n",
      "[ 2.91697458 -0.99595015]\n",
      "[4.30892744 0.63650572]\n",
      "[0.2568247 0.7431753]\n",
      "[ 2.91697859 -0.9959499 ]\n",
      "[4.30891761 0.63650618]\n",
      "[0.25682439 0.74317561]\n",
      "[ 2.91698223 -0.99594968]\n",
      "[4.30890871 0.6365066 ]\n",
      "[0.25682411 0.74317589]\n"
     ]
    }
   ],
   "source": [
    "miu = np.array([10,-10])\n",
    "sigma = np.array([5,5])\n",
    "alpha = np.array([0.5,0.5])\n",
    "likelihood = []\n",
    "for i in range(100):\n",
    "    miu,sigma,alpha, l = iteration(miu,sigma,alpha,data)\n",
    "    likelihood.append(l)\n",
    "    print(miu)\n",
    "    print(sigma)\n",
    "    print(alpha)"
   ]
  },
  {
   "cell_type": "code",
   "execution_count": 531,
   "metadata": {},
   "outputs": [
    {
     "data": {
      "text/plain": [
       "[<matplotlib.lines.Line2D at 0x247c46a2a90>]"
      ]
     },
     "execution_count": 531,
     "metadata": {},
     "output_type": "execute_result"
    },
    {
     "data": {
      "image/png": "[encoded data removed]",
      "text/plain": [
       "<matplotlib.figure.Figure at 0x247c48e5390>"
      ]
     },
     "metadata": {},
     "output_type": "display_data"
    }
   ],
   "source": [
    "plt.plot(likelihood)"
   ]
  },
  {
   "cell_type": "code",
   "execution_count": 532,
   "metadata": {},
   "outputs": [
    {
     "data": {
      "text/plain": [
       "[<matplotlib.lines.Line2D at 0x247c495ab70>]"
      ]
     },
     "execution_count": 532,
     "metadata": {},
     "output_type": "execute_result"
    },
    {
     "data": {
      "image/png": "[encoded data removed]",
      "text/plain": [
       "<matplotlib.figure.Figure at 0x247c452e5c0>"
      ]
     },
     "metadata": {},
     "output_type": "display_data"
    }
   ],
   "source": [
    "x = np.linspace(-4,10,2000)\n",
    "y = (density(x,miu,sigma) * alpha.reshape([2,1])).sum(axis = 0)\n",
    "plt.plot(x,y)"
   ]
  },
  {
   "cell_type": "markdown",
   "metadata": {},
   "source": [
    "## problem3"
   ]
  },
  {
   "cell_type": "code",
   "execution_count": 283,
   "metadata": {},
   "outputs": [],
   "source": [
    "def phi(data):\n",
    "    return np.abs(data)<0.5\n",
    "\n",
    "def KDE(data,h):\n",
    "    n = len(data)\n",
    "    x = np.linspace(-4,10,500)\n",
    "    x_pile = x.reshape([1,500]).repeat([n],axis = 0)\n",
    "    p = phi( (data.reshape([n,1]) - x_pile)/h ).sum(axis =0)/(n*h)\n",
    "    plt.plot(x,p)"
   ]
  },
  {
   "cell_type": "code",
   "execution_count": 286,
   "metadata": {},
   "outputs": [
    {
     "data": {
      "image/png": "[encoded data removed]",
      "text/plain": [
       "<matplotlib.figure.Figure at 0x247c464ada0>"
      ]
     },
     "metadata": {},
     "output_type": "display_data"
    }
   ],
   "source": [
    "KDE(data,2)"
   ]
  },
  {
   "cell_type": "markdown",
   "metadata": {},
   "source": [
    "## problem4"
   ]
  },
  {
   "cell_type": "code",
   "execution_count": 2,
   "metadata": {},
   "outputs": [
    {
     "data": {
      "text/plain": [
       "<matplotlib.collections.PathCollection at 0x1e6e46d7240>"
      ]
     },
     "execution_count": 2,
     "metadata": {},
     "output_type": "execute_result"
    },
    {
     "data": {
      "image/png": "[encoded data removed]",
      "text/plain": [
       "<matplotlib.figure.Figure at 0x1e6e267e8d0>"
      ]
     },
     "metadata": {},
     "output_type": "display_data"
    }
   ],
   "source": [
    "N = 2000\n",
    "M = 3\n",
    "\n",
    "miu = np.array([[-0.5,0.5],[5.5,1.5],[1,4]])\n",
    "cov = np.array([[[2.0,0.3],[0.3,0.5]],[[4.0,0.3],[0.3,0.5]],[[6.0,1.0],[1.0,2.0]]])\n",
    "alpha = np.array([0.2,0.3,0.5])\n",
    "X,Y = np.random.multivariate_normal(miu[0],cov[0],size = N).T\n",
    "X = X.reshape([1,N])\n",
    "Y = Y.reshape([1,N])\n",
    "for i in range(1,M):\n",
    "    x,y = np.random.multivariate_normal(miu[i],cov[i],size = N).T\n",
    "    X = np.append(X,x.reshape([1,N]),axis =0)\n",
    "    Y = np.append(Y,y.reshape([1,N]),axis =0)\n",
    "select = np.random.multinomial(1, alpha, size=N).T\n",
    "X = (select * X).sum(axis = 0)\n",
    "Y = (select * Y).sum(axis = 0)\n",
    "color = (select * np.array([1,2,3]).reshape([M,1])).sum(axis = 0)\n",
    "plt.scatter(X,Y,c=color,marker='.')"
   ]
  },
  {
   "cell_type": "markdown",
   "metadata": {},
   "source": [
    "## problem5"
   ]
  },
  {
   "cell_type": "code",
   "execution_count": 3,
   "metadata": {},
   "outputs": [],
   "source": [
    "from scipy.stats import multivariate_normal\n",
    "\n",
    "#data should be N * dimension\n",
    "#miu should be M * dimension\n",
    "#cov should be M * dimension * dimension\n",
    "# density return M * N array\n",
    "def density(data,miu,cov):\n",
    "    M,d = miu.shape\n",
    "    N,d = data.shape\n",
    "    density = multivariate_normal(miu[0,:], cov[0,:,:]).pdf(data).reshape([1,N])\n",
    "    for i in range(1,M):\n",
    "        density = np.append(density, multivariate_normal(miu[i,:], cov[i,:]).pdf(data).reshape([1,N]), axis = 0)\n",
    "    return density\n",
    "\n",
    "def iteration(miu, sigma, alpha, data):\n",
    "    M,d = miu.shape\n",
    "    N,d = data.shape\n",
    "    #step1\n",
    "    Px = density(data,miu,sigma) #M*N\n",
    "    alpha_Px = Px * alpha.reshape([M,1])\n",
    "    Pl = alpha_Px / alpha_Px.sum(axis = 0)\n",
    "    Pl_sum = Pl.sum(axis = 1) #\n",
    "    alpha1 = Pl_sum/N\n",
    "    #step2\n",
    "    Pl = Pl.reshape([M,N,1]) # M*N*1 \n",
    "    data = data.reshape([1,N,d]).repeat([M],axis = 0) # 保持axis = 0的面不动进行复制, 1*N*d 变成 M*N*d\n",
    "    miu1 = ( Pl * data ).sum(axis = 1) / Pl_sum.reshape([M,1])     # \"/\" 左边为M*d,右边为M*1  返回M*d\n",
    "    #step3\n",
    "    data_c = (data - miu1.reshape([M,1,d])).reshape([M,N,d,1]) #为中心化后的data  M*N*d*1\n",
    "    data_c_t = np.transpose(data_c, (0,1,3,2)) #data_c转置 M*N*1*d\n",
    "    sigma1 = (Pl.reshape([M,N,1,1]) * np.matmul(data_c, data_c_t)).sum(axis = 1) /  Pl_sum.reshape([M,1,1])\n",
    "    \n",
    "    likelihood = np.log(alpha_Px.sum())\n",
    "    return miu1, sigma1, alpha1, likelihood"
   ]
  },
  {
   "cell_type": "code",
   "execution_count": 10,
   "metadata": {},
   "outputs": [],
   "source": [
    "data = np.array([X,Y]).T"
   ]
  },
  {
   "cell_type": "code",
   "execution_count": 11,
   "metadata": {},
   "outputs": [],
   "source": [
    "miu = np.array([[0.,0.],[5.,5.],[1.,5.]])\n",
    "cov = np.array([[[1.,0.],[0.,1.]],[[2.,0.],[0.,1.]],[[1.,0.],[0.,2.]]])\n",
    "alpha = np.array([0.3,0.3,0.4])\n",
    "likelihood = []\n",
    "for i in range(100):\n",
    "    miu,cov,alpha, l = iteration(miu,cov,alpha,data)\n",
    "    likelihood.append(l)\n",
    "    #print(\"miu:\",miu)\n",
    "    #print(\"sigma:\",sigma)\n",
    "    #print(\"alpha:\",alpha)"
   ]
  },
  {
   "cell_type": "code",
   "execution_count": 8,
   "metadata": {},
   "outputs": [
    {
     "data": {
      "text/plain": [
       "[<matplotlib.lines.Line2D at 0x1e6e619a208>]"
      ]
     },
     "execution_count": 8,
     "metadata": {},
     "output_type": "execute_result"
    },
    {
     "data": {
      "image/png": "[encoded data removed]",
      "text/plain": [
       "<matplotlib.figure.Figure at 0x1e6e470dfd0>"
      ]
     },
     "metadata": {},
     "output_type": "display_data"
    }
   ],
   "source": [
    "plt.plot(np.arange(100),likelihood)"
   ]
  },
  {
   "cell_type": "code",
   "execution_count": 9,
   "metadata": {},
   "outputs": [
    {
     "name": "stdout",
     "output_type": "stream",
     "text": [
      "miu: [[-0.52523202  0.48701681]\n",
      " [ 5.39318065  1.42597061]\n",
      " [ 1.00948269  3.9917433 ]]\n",
      "cov: [[[1.56720489 0.26661864]\n",
      "  [0.26661864 0.49218996]]\n",
      "\n",
      " [[4.13526996 0.30916592]\n",
      "  [0.30916592 0.47097095]]\n",
      "\n",
      " [[5.8275018  0.8515816 ]\n",
      "  [0.8515816  2.02910727]]]\n",
      "alpha: [0.19032297 0.30426306 0.50541397]\n"
     ]
    }
   ],
   "source": [
    "print(\"miu:\",miu)\n",
    "print(\"cov:\",cov)\n",
    "print(\"alpha:\",alpha)"
   ]
  },
  {
   "cell_type": "code",
   "execution_count": null,
   "metadata": {},
   "outputs": [],
   "source": []
  }
 ],
 "metadata": {
  "kernelspec": {
   "display_name": "Python 3",
   "language": "python",
   "name": "python3"
  },
  "language_info": {
   "codemirror_mode": {
    "name": "ipython",
    "version": 3
   },
   "file_extension": ".py",
   "mimetype": "text/x-python",
   "name": "python",
   "nbconvert_exporter": "python",
   "pygments_lexer": "ipython3",
   "version": "3.6.4"
  }
 },
 "nbformat": 4,
 "nbformat_minor": 2
}

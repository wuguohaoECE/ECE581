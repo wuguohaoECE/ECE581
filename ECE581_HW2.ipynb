{
 "cells": [
  {
   "cell_type": "code",
   "execution_count": 2,
   "metadata": {},
   "outputs": [],
   "source": [
    "import pandas as pd\n",
    "import numpy as np\n",
    "import matplotlib.pyplot as plt"
   ]
  },
  {
   "cell_type": "markdown",
   "metadata": {},
   "source": [
    "# problem1"
   ]
  },
  {
   "cell_type": "markdown",
   "metadata": {},
   "source": [
    "### the calculated result\n",
    "\n",
    "$p(i,j)$\n",
    "\n",
    "$p(0,0)=\\frac{1}{8}$\n",
    "\n",
    "$p(0,1)=\\frac{1}{8}$\n",
    "\n",
    "$p(1,0)=\\frac{1}{4}$\n",
    "\n",
    "$p(1,1)=\\frac{1}{2}$\n",
    "\n",
    "$p(i=0)=\\frac{1}{4}$\n",
    "\n",
    "$p(i=1)=\\frac{3}{4}$\n",
    "\n",
    "$p(j=0)=\\frac{3}{8}$\n",
    "\n",
    "$p(j=1)=\\frac{5}{8}$"
   ]
  },
  {
   "cell_type": "markdown",
   "metadata": {},
   "source": [
    "## let 0 represent (0,0), 1 represent (0,1),2 and 3 represent (1,0), 4 5 6 7 represent (1,1)"
   ]
  },
  {
   "cell_type": "code",
   "execution_count": 39,
   "metadata": {},
   "outputs": [
    {
     "data": {
      "text/html": [
       "<div>\n",
       "<style scoped>\n",
       "    .dataframe tbody tr th:only-of-type {\n",
       "        vertical-align: middle;\n",
       "    }\n",
       "\n",
       "    .dataframe tbody tr th {\n",
       "        vertical-align: top;\n",
       "    }\n",
       "\n",
       "    .dataframe thead th {\n",
       "        text-align: right;\n",
       "    }\n",
       "</style>\n",
       "<table border=\"1\" class=\"dataframe\">\n",
       "  <thead>\n",
       "    <tr style=\"text-align: right;\">\n",
       "      <th></th>\n",
       "      <th>p(0,0)</th>\n",
       "      <th>p(0,1)</th>\n",
       "      <th>p(1,0)</th>\n",
       "      <th>p(1,1)</th>\n",
       "      <th>p(i=0)</th>\n",
       "      <th>p(i=1)</th>\n",
       "      <th>p(j=0)</th>\n",
       "      <th>p(j=1)</th>\n",
       "    </tr>\n",
       "  </thead>\n",
       "  <tbody>\n",
       "    <tr>\n",
       "      <th>0</th>\n",
       "      <td>0.1287</td>\n",
       "      <td>0.1244</td>\n",
       "      <td>0.2438</td>\n",
       "      <td>0.5031</td>\n",
       "      <td>0.2531</td>\n",
       "      <td>0.7469</td>\n",
       "      <td>0.3725</td>\n",
       "      <td>0.6275</td>\n",
       "    </tr>\n",
       "  </tbody>\n",
       "</table>\n",
       "</div>"
      ],
      "text/plain": [
       "   p(0,0)  p(0,1)  p(1,0)  p(1,1)  p(i=0)  p(i=1)  p(j=0)  p(j=1)\n",
       "0  0.1287  0.1244  0.2438  0.5031  0.2531  0.7469  0.3725  0.6275"
      ]
     },
     "execution_count": 39,
     "metadata": {},
     "output_type": "execute_result"
    }
   ],
   "source": [
    "a = np.floor(np.random.uniform(0,8,10000))\n",
    "pd.DataFrame(data = {'p(0,0)':[len(a[a==0])],'p(0,1)':[len(a[a==1])],'p(1,0)':[len(a[a==2])+len(a[a==3])],'p(1,1)':[len(a[a==4])+len(a[a==5])+len(a[a==6])+len(a[a==7])],'p(i=0)':[len(a[a==0])+len(a[a==1])],'p(i=1)':[len(a[a>=2])],'p(j=0)':[len(a[a==0])+len(a[a==2])+len(a[a==3])],'p(j=1)':[len(a[a==1])+len(a[a>=4])]})/10000"
   ]
  },
  {
   "cell_type": "markdown",
   "metadata": {},
   "source": [
    "# problem2\n",
    "\n",
    "## the formular problem provided is equal to numpy.corrcoef"
   ]
  },
  {
   "cell_type": "code",
   "execution_count": 50,
   "metadata": {},
   "outputs": [
    {
     "data": {
      "text/plain": [
       "0.1637444973646146"
      ]
     },
     "execution_count": 50,
     "metadata": {},
     "output_type": "execute_result"
    }
   ],
   "source": [
    "set = np.zeros([10000,2])\n",
    "for i in range(10000):\n",
    "    if a[i] <= 1:\n",
    "        set[i,0]=0\n",
    "    else: set[i,0]=1\n",
    "    \n",
    "    if a[i] ==0 or a[i] ==2 or a[i] ==3:\n",
    "        set[i,1]=0\n",
    "    else: set[i,1]=1\n",
    "np.corrcoef(set.T)[0,1]"
   ]
  },
  {
   "cell_type": "markdown",
   "metadata": {},
   "source": [
    "# problem3"
   ]
  },
  {
   "cell_type": "code",
   "execution_count": 52,
   "metadata": {},
   "outputs": [
    {
     "name": "stdout",
     "output_type": "stream",
     "text": [
      "estimated p(2) = 0.243000, true p(2) = 0.250000\n",
      "estimated p(3) = 0.248500, true p(3) = 0.250000\n",
      "estimated p(4) = 0.186200, true p(4) = 0.187500\n",
      "estimated p(5) = 0.125000, true p(5) = 0.125000\n",
      "estimated p(6) = 0.083200, true p(6) = 0.078125\n",
      "estimated p(7) = 0.051000, true p(7) = 0.046875\n",
      "estimated p(8) = 0.027700, true p(8) = 0.027344\n",
      "estimated p(9) = 0.015500, true p(9) = 0.015625\n",
      "estimated p(10) = 0.009300, true p(10) = 0.008789\n",
      "estimated p(11) = 0.005600, true p(11) = 0.004883\n",
      "estimated p(12) = 0.002300, true p(12) = 0.002686\n",
      "estimated p(13) = 0.001600, true p(13) = 0.001465\n",
      "estimated p(14) = 0.000200, true p(14) = 0.000793\n",
      "estimated p(15) = 0.000400, true p(15) = 0.000427\n",
      "estimated p(16) = 0.000400, true p(16) = 0.000229\n",
      "estimated p(17) = 0.000100, true p(17) = 0.000122\n",
      "estimated p(18) = 0.000000, true p(18) = 0.000065\n",
      "estimated p(19) = 0.000000, true p(19) = 0.000034\n"
     ]
    }
   ],
   "source": [
    "n = 10000\n",
    "p = 0.5\n",
    "set1 = np.random.geometric(p,n)\n",
    "set2 = np.random.geometric(p,n)\n",
    "set = set1+set2\n",
    "for i in range(2,20):\n",
    "    print('estimated p(%d) = %f, true p(%d) = %f' %(i,len(set[set==i])/n,i,p**2*(i-1)*(1-p)**(i-2)))"
   ]
  },
  {
   "cell_type": "markdown",
   "metadata": {},
   "source": [
    "# problem4"
   ]
  },
  {
   "cell_type": "code",
   "execution_count": 46,
   "metadata": {
    "scrolled": false
   },
   "outputs": [
    {
     "data": {
      "text/plain": [
       "<matplotlib.collections.PathCollection at 0x23a1e637cc0>"
      ]
     },
     "execution_count": 46,
     "metadata": {},
     "output_type": "execute_result"
    },
    {
     "data": {
      "image/png": "[encoded data removed]",
      "text/plain": [
       "<matplotlib.figure.Figure at 0x23a1d5f9390>"
      ]
     },
     "metadata": {},
     "output_type": "display_data"
    }
   ],
   "source": [
    "i = np.arange(1,12)\n",
    "x = 0.95 + (i-1)/100\n",
    "y = 1.95 + (i-1)/100\n",
    "x1, y1 = np.meshgrid(x,y)\n",
    "plt.scatter(x1,y1)"
   ]
  },
  {
   "cell_type": "code",
   "execution_count": 47,
   "metadata": {},
   "outputs": [
    {
     "data": {
      "text/plain": [
       "<matplotlib.collections.PathCollection at 0x23a1e6a20b8>"
      ]
     },
     "execution_count": 47,
     "metadata": {},
     "output_type": "execute_result"
    },
    {
     "data": {
      "image/png": "[encoded data removed]",
      "text/plain": [
       "<matplotlib.figure.Figure at 0x23a1e64e438>"
      ]
     },
     "metadata": {},
     "output_type": "display_data"
    }
   ],
   "source": [
    "w = x1**2+5*y1**2\n",
    "z = -5*x1**2+y1**2\n",
    "plt.scatter(w,z)"
   ]
  },
  {
   "cell_type": "code",
   "execution_count": 48,
   "metadata": {},
   "outputs": [],
   "source": [
    "def PolyArea(x,y):\n",
    "    return 0.5*np.abs(np.dot(x,np.roll(y,1))-np.dot(y,np.roll(x,1)))"
   ]
  },
  {
   "cell_type": "code",
   "execution_count": 63,
   "metadata": {},
   "outputs": [
    {
     "data": {
      "text/plain": [
       "207.99999999999503"
      ]
     },
     "execution_count": 63,
     "metadata": {},
     "output_type": "execute_result"
    }
   ],
   "source": [
    "ratio=PolyArea([w[0,0],w[0,10],w[10,10],w[10,0]],[z[0,0],z[0,10],z[10,10],z[10,0]])/PolyArea([x1[0,0],x1[0,10],x1[10,10],x1[10,0]],[y1[0,0],y1[0,10],y1[10,10],y1[10,0]])\n",
    "ratio"
   ]
  },
  {
   "cell_type": "markdown",
   "metadata": {},
   "source": [
    "## The approximated ratio is  208\n",
    "\n",
    "## Jacobian factor is 208\n",
    "\n",
    "## They are same"
   ]
  },
  {
   "cell_type": "markdown",
   "metadata": {},
   "source": [
    "# problem 5"
   ]
  },
  {
   "cell_type": "code",
   "execution_count": 67,
   "metadata": {},
   "outputs": [
    {
     "data": {
      "text/plain": [
       "[<matplotlib.lines.Line2D at 0x26edac93ba8>]"
      ]
     },
     "execution_count": 67,
     "metadata": {},
     "output_type": "execute_result"
    },
    {
     "data": {
      "image/png": "[encoded data removed]",
      "text/plain": [
       "<matplotlib.figure.Figure at 0x26edac4c5c0>"
      ]
     },
     "metadata": {},
     "output_type": "display_data"
    }
   ],
   "source": [
    "i = np.arange(1,1000)\n",
    "mean = []\n",
    "for n in i:\n",
    "    mean.append(np.random.normal(loc=1,scale=1,size=n).mean())\n",
    "plt.plot(i, mean)"
   ]
  },
  {
   "cell_type": "markdown",
   "metadata": {},
   "source": [
    "## converge to 1"
   ]
  },
  {
   "cell_type": "markdown",
   "metadata": {},
   "source": [
    "# problem 6"
   ]
  },
  {
   "cell_type": "code",
   "execution_count": 71,
   "metadata": {},
   "outputs": [
    {
     "data": {
      "text/plain": [
       "<matplotlib.legend.Legend at 0x26edaca2198>"
      ]
     },
     "execution_count": 71,
     "metadata": {},
     "output_type": "execute_result"
    },
    {
     "data": {
      "image/png": "[encoded data removed]",
      "text/plain": [
       "<matplotlib.figure.Figure at 0x26edad5f630>"
      ]
     },
     "metadata": {},
     "output_type": "display_data"
    }
   ],
   "source": [
    "mean1=[]\n",
    "for n in i:\n",
    "    mean1.append(np.random.uniform(low=0,high=2,size=n).mean())\n",
    "plt.plot(i,mean,mean1)\n",
    "plt.legend(labels=['normal','uniform'],loc='best')"
   ]
  },
  {
   "cell_type": "markdown",
   "metadata": {},
   "source": [
    "### uniform is faster"
   ]
  },
  {
   "cell_type": "markdown",
   "metadata": {},
   "source": [
    "# problem 7"
   ]
  },
  {
   "cell_type": "code",
   "execution_count": 27,
   "metadata": {
    "scrolled": true
   },
   "outputs": [
    {
     "data": {
      "text/plain": [
       "[<matplotlib.lines.Line2D at 0x23a1c077668>]"
      ]
     },
     "execution_count": 27,
     "metadata": {},
     "output_type": "execute_result"
    },
    {
     "data": {
      "image/png": "[encoded data removed]",
      "text/plain": [
       "<matplotlib.figure.Figure at 0x23a1d3f6518>"
      ]
     },
     "metadata": {},
     "output_type": "display_data"
    }
   ],
   "source": [
    "i=np.arange(1,10000)\n",
    "set = []\n",
    "mean = []\n",
    "for n in i:\n",
    "    set.append(np.random.normal(loc=0,scale=n))\n",
    "    #print(set)\n",
    "    mean.append(np.array(set).mean())\n",
    "    #print(mean)\n",
    "plt.plot(i, mean)"
   ]
  },
  {
   "cell_type": "markdown",
   "metadata": {},
   "source": [
    "## It does not converge because as the n increase, the variance increase as well."
   ]
  },
  {
   "cell_type": "code",
   "execution_count": null,
   "metadata": {},
   "outputs": [],
   "source": []
  }
 ],
 "metadata": {
  "kernelspec": {
   "display_name": "Python 3",
   "language": "python",
   "name": "python3"
  },
  "language_info": {
   "codemirror_mode": {
    "name": "ipython",
    "version": 3
   },
   "file_extension": ".py",
   "mimetype": "text/x-python",
   "name": "python",
   "nbconvert_exporter": "python",
   "pygments_lexer": "ipython3",
   "version": "3.6.4"
  }
 },
 "nbformat": 4,
 "nbformat_minor": 2
}
